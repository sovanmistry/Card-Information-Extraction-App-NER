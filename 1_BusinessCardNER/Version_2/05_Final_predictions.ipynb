{
 "cells": [
  {
   "cell_type": "markdown",
   "id": "97957e32",
   "metadata": {},
   "source": [
    "## Prediction"
   ]
  },
  {
   "cell_type": "code",
   "execution_count": 1,
   "id": "88f754c4",
   "metadata": {},
   "outputs": [],
   "source": [
    "import cv2\n",
    "import predictions as pred"
   ]
  },
  {
   "cell_type": "markdown",
   "id": "cea7aed8",
   "metadata": {},
   "source": [
    "## Open Image"
   ]
  },
  {
   "cell_type": "code",
   "execution_count": 2,
   "id": "ef00b08f",
   "metadata": {},
   "outputs": [],
   "source": [
    "img = cv2.imread('./data/54.jpg')\n",
    "\n",
    "cv2.namedWindow('Original', cv2.WINDOW_NORMAL)\n",
    "cv2.imshow('Original', img)\n",
    "cv2.waitKey(0)\n",
    "cv2.destroyAllWindows()"
   ]
  },
  {
   "cell_type": "markdown",
   "id": "555f7938",
   "metadata": {},
   "source": [
    "## Do Predictions"
   ]
  },
  {
   "cell_type": "code",
   "execution_count": 3,
   "id": "f21dfc3d",
   "metadata": {},
   "outputs": [
    {
     "name": "stdout",
     "output_type": "stream",
     "text": [
      "Stanford Stanford MEDICINE Cardiovascular Institute Joseph C. Wu, MD, PhD Director, Stanford Cardiovascular Institute Professor Medicine Cardiology Radiology 265 Campus Drive, G-1120B ek 650 736-2246 Stanford, CA 94305, MC-5454 http//wulab.stanford.edu joewu@stanford.edu hetp//evistanford.edu\n",
      "{'NAME': ['Joseph C'], 'ORG': ['Cardiovascular Institute'], 'DES': ['Wu', 'Director'], 'PHONE': ['650736'], 'EMAIL': ['cardiovascular', 'httpwulab.stanford.edu', 'joewu@stanford.eduhetpevistanford.edu'], 'WEB': []}\n"
     ]
    }
   ],
   "source": [
    "img_results, entities = pred.getPredictions(img)\n",
    "\n",
    "print(entities)\n",
    "cv2.namedWindow('Predictions', cv2.WINDOW_NORMAL)\n",
    "cv2.imshow('Original', img_results)\n",
    "cv2.waitKey(0)\n",
    "cv2.destroyAllWindows()"
   ]
  },
  {
   "cell_type": "code",
   "execution_count": null,
   "id": "aea5f2a9",
   "metadata": {},
   "outputs": [],
   "source": []
  }
 ],
 "metadata": {
  "kernelspec": {
   "display_name": "Python 3 (ipykernel)",
   "language": "python",
   "name": "python3"
  },
  "language_info": {
   "codemirror_mode": {
    "name": "ipython",
    "version": 3
   },
   "file_extension": ".py",
   "mimetype": "text/x-python",
   "name": "python",
   "nbconvert_exporter": "python",
   "pygments_lexer": "ipython3",
   "version": "3.9.18"
  }
 },
 "nbformat": 4,
 "nbformat_minor": 5
}
